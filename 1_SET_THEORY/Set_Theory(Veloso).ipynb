{
 "cells": [
  {
   "cell_type": "code",
   "execution_count": 80,
   "id": "d57d82a6-3578-4166-b487-b17d032f1297",
   "metadata": {},
   "outputs": [],
   "source": [
    "from matplotlib_venn import venn2, venn2_circles, venn2_unweighted\n",
    "from matplotlib_venn import venn3, venn3_circles\n",
    "from matplotlib import pyplot as plt\n",
    "%matplotlib inline"
   ]
  },
  {
   "cell_type": "code",
   "execution_count": 81,
   "id": "b99a0236-7ba9-4a8f-8cb2-2e39f9cbf1d9",
   "metadata": {},
   "outputs": [],
   "source": [
    "def drawVenn2(A,B,labels = ('A', 'B')):\n",
    "    '''\n",
    "    listing elements in Venn diagram of two sets\n",
    "    '''\n",
    "    v2=venn2([A,B],set_labels = labels);\n",
    "    v2.get_label_by_id('01').set_text(', '.join(map(str,B-A)))\n",
    "    v2.get_label_by_id('10').set_text(', '.join(map(str,A-B)))\n",
    "    if A&B:\n",
    "        v2.get_label_by_id('11').set_text(', '.join(map(str,A&B)))"
   ]
  },
  {
   "cell_type": "code",
   "execution_count": 82,
   "id": "198ea8fd-aa91-4f1b-92cd-3429d3df934c",
   "metadata": {},
   "outputs": [],
   "source": [
    "def drawVenn3(A,B,C,labels = ('A', 'B', 'C')):\n",
    "    '''\n",
    "    listing elements in Venn diagram of three sets, A, B, C\n",
    "    '''\n",
    "    v3=venn3([A,B,C],set_labels = labels);\n",
    "    if A-B-C:\n",
    "        v3.get_label_by_id('100').set_text('\\n'.join(map(str,A-B-C)))\n",
    "        v3.get_patch_by_id('100').set_alpha(0.6)\n",
    "        v3.get_patch_by_id('100').set_facecolor('Yellow')\n",
    "    if A&B-C:\n",
    "        v3.get_label_by_id('110').set_text('\\n'.join(map(str,A&B-C)))\n",
    "        v3.get_patch_by_id('110').set_alpha(0.3)\n",
    "        v3.get_patch_by_id('110').set_facecolor('Red')\n",
    "    if B-C-A:\n",
    "        v3.get_label_by_id('010').set_text('\\n'.join(map(str,B-C-A)))\n",
    "        v3.get_patch_by_id('010').set_alpha(0.6)\n",
    "        v3.get_patch_by_id('010').set_facecolor('Magenta')\n",
    "    if A&C-B:\n",
    "        v3.get_label_by_id('101').set_text('\\n'.join(map(str,A&C-B)))\n",
    "        v3.get_patch_by_id('101').set_alpha(0.3)\n",
    "        v3.get_patch_by_id('101').set_facecolor('Green')\n",
    "    if A&B&C:\n",
    "        v3.get_label_by_id('111').set_text('\\n'.join(map(str,A&B&C)))\n",
    "        v3.get_patch_by_id('111').set_alpha(0.1)\n",
    "        v3.get_patch_by_id('111').set_facecolor('Black')\n",
    "    if B&C-A:\n",
    "        v3.get_label_by_id('011').set_text('\\n'.join(map(str,B&C-A)))\n",
    "        v3.get_patch_by_id('011').set_alpha(0.3)\n",
    "        v3.get_patch_by_id('011').set_facecolor('Blue')\n",
    "    if C-B-A:\n",
    "        v3.get_label_by_id('001').set_text('\\n'.join(map(str,C-B-A)))\n",
    "        v3.get_patch_by_id('001').set_alpha(0.6)\n",
    "        v3.get_patch_by_id('001').set_facecolor('Cyan')"
   ]
  },
  {
   "cell_type": "markdown",
   "id": "b59cdc44-c30f-4f6e-bce4-404795dbf9db",
   "metadata": {},
   "source": [
    "# 1. Proving Identities \n",
    "\n",
    "Given: A and B are sets, $\\exists$ x such that (x $\\in$ A $\\land$ x $\\in$ B)<br>\n",
    "Show that:\n",
    "- A\\B = A $\\cap$ $B^{c}$ <br>\n",
    "$LHS:$ If $x$ $\\in$ $A\\setminus B$ then $x$ $\\in$ $A$ $\\land$ x $\\notin$ $B$<br>\n",
    "$RHS:$ since $x$ $\\in$ $A$ $\\land$ $x$ $\\in$ $B^C$ then $x$ $\\in$ $A$ $\\cap$ $B^C$\n",
    "  \n",
    "- B = (B $\\cap$ A) $\\cup$ (B $\\cap$ $A^{c}$)<br>\n",
    "$RHS:$<br>\n",
    "If $x$ $\\in$ $B$ then $x$ $\\in$ ($B$ $\\cap$ $A$) $\\cup$ ($B$ $\\cap$ $A^C$)<br>\n",
    "If $x$ $\\in$ ($B$ $\\cap$ $A$) $\\cup$ ($B$ $\\cap$ $A^C$) then $x$ $\\in$ $B$ $\\cap$ ($A$ $\\cup$ $A^C$) $\\land$ $x$ $\\in$ $A$ $\\cup A^C$ (Distributive Law)<br>\n",
    "If $x$ $\\in$ $A \\cup A^C = \\mathcal {U}$ $\\land$ $x$ $\\in$ $B \\cap \\mathcal{U}$ = $B$ then $x$ $\\in$ $B$ (Domination Law)<br>\n",
    "\n",
    "\n",
    "- B\\A = B $\\cap$ $A^{c}$<br>\n",
    "$LHS:$ If $x$ $\\in$ $B\\setminus A$ then $x$ $\\in$ $B$ $\\land$ x $\\notin$ $A$<br>\n",
    "$RHS:$ <br>\n",
    "$x$ $\\in$ $B$ $\\land$ $x$ $\\in$ $A^C$ then $x$ $\\in$ $B$ $\\cap$ $A^C$<br>\n",
    "$\\therefore$ $B\\setminus A$ $\\subseteq$ $B$ $\\cap$ $A^C$ or $B\\setminus A = B$ $\\cap$ $A^C$\n",
    "- A $\\cup$ B = A $\\cup$ (B $\\cap$ $A^{c}$)<br>\n",
    "$LHS:$If $x$ $\\in$ $A$ $\\cup$ $B$ then $A$ $\\cup$ $B$ $\\subseteq$ $U$<br>\n",
    "$RHS:$<br>\n",
    "If $x$ $\\in$ $A$ $\\cup$ ($B$ $\\cup$ $A^C$) then $x$ $\\in$ ($A$ $\\cup$ $B$) $\\cup$ ($A$ $\\cup$ $A^C$) (Distributive Law)<br>\n",
    "If $x$ $\\in$ ($A$ $\\cup$ $B$) $\\cup$ $\\mathcal{U}$ then $x$ $\\in$ $\\mathcal{U}$ = $A \\cup B$ (Domination Law)<br>\n",
    "$\\therefore A \\cup B = A \\cup (B\\cap A^C$)\n",
    "\n",
    "\n",
    "- $(\\textbf{U}_{i=1}^{\\infty} A_{i}^{c})^{c}$ = $\\cap_{i=1}^{\\infty}A_{i}$<br>\n",
    "This problem follows the De Morgan's Law for Infinite Unions and Intersections and since the complement of a complement of a set is the set itself, we can say that: (I think i jumbled up my words but ill just show you)<br>\n",
    "$(\\textbf{U}_{i=1}^{\\infty} A_{i}^{c})^{c}$ = $\\cap_{i=1}^{\\infty}A_{i}$<br>\n",
    "distribute the complement inside the parenthesis(De Morgan's Law)$\\downarrow$<br>\n",
    "$\\bigcap_{i = 1}^{\\infty}(A_i^C)^C$<br>\n",
    "Then Double Negation Law$\\downarrow$<br>\n",
    "$\\bigcap_{i = 1}^{\\infty}(A_i^C)^C = \\bigcap_{i = 1}^{\\infty}A_i$<br>\n",
    "$\\therefore True$\n",
    "\n",
    "- |A $\\cup$ B| = |A| + |B| - |A $\\cap$ B|<br>\n",
    "$LHS: $If $x$ $\\in$ $A \\cap B$ then $x$ $\\in$ $A$ or $x$ $\\in$ $B$<br>\n",
    "$RHS: $If $|A \\cup B|$ = Disjointed Set then $|A \\cap B|$ = $\\emptyset$<br>\n",
    "If $|A \\cup B|$ = Not Disjoint Set then $x$ $\\in$ $|A|$ $\\land$ $x$ $\\in$ $|B|$<br>\n",
    "$x$ $\\in$ $|A \\cap B|$ = $|A \\cup B|$ $\\land$  $|A \\cup B|$ = $|A| + |B| - |A \\cap B|$\n",
    "\n",
    "-------------------------------------------------------------------------------------------------------------------------------------------"
   ]
  },
  {
   "cell_type": "markdown",
   "id": "c937d32d-4e93-4207-9165-f705b629694a",
   "metadata": {},
   "source": [
    "# 2. Sets and Subsets\n",
    "- If A = {2,3,4,5}, and B = {$x \\in \\mathbb{N} | x \\ is \\ even$}. Is A $\\subset$ B? Show a proof.\n",
    "\n",
    "  for Set A to be a proper subset of Set B we need to go back to the condition of what a proper subset is, which states that A is a proper subset of B, if A is a subset of B, and there exists at least one element of B that is not in A. This means that Set A is not a proper subset of B due to the fact that although Set A contains some elements in Set B such as 2 and 4, there are also elements in Set A that is not found in Set B. It may be a subset but not a proper subset \n",
    "\n",
    "  \n",
    "$\\therefore$ $A \\not\\subset B$\n",
    "\n",
    "-----------------------------------------------------------------------------------------------------------\n"
   ]
  },
  {
   "cell_type": "markdown",
   "id": "2f9d55a8-2f04-40cc-b5cc-9addfb8364bb",
   "metadata": {},
   "source": [
    "- If A = {2,3,4,5}, and B = {$x \\in \\mathbb{N} | x \\ is \\ even$}. Is A $\\subset$ B? Show a proof.\n",
    "- Let sets $\\textbf{A} = \\{x|x \\in \\mathbb{Z}, 0 \\leq x \\leq 9\\},\n",
    "\\textbf{B} = \\{ 2,4,6,8\\},\n",
    "\\ and \\ \n",
    "\\textbf{C}  = \\{ 1,3,5,7,9\\}\n",
    "\\ and \\ \\textbf{D}  = \\{ 3,4,5\\}$\n",
    "Find a set $\\textbf{X}$ which will satisfy the following conditions:\n",
    "    1. $\\textbf{X} \\ and \\ \\textbf{B}$ are disjoint.\n",
    "    2. $\\textbf{X} \\subseteq \\textbf{D}$ but $\\textbf{X} \\nsubseteq \\textbf{B}$.\n",
    "    3. $\\textbf{X} \\subseteq \\textbf{A}$ but $\\textbf{X} \\not\\subset \\textbf{C}$.\n",
    "       \n",
    "        $\\downarrow$\n",
    "\n",
    "          $ 1. X = {1,3,5,7,9}$\n",
    "  \n",
    "          $ 2. X = {3,5} $\n",
    "\n",
    "          $ 3. X = {2,4,6,8} $"
   ]
  },
  {
   "cell_type": "markdown",
   "id": "3ff921c6-c6b6-4f2f-8ab6-0d146e35db4d",
   "metadata": {},
   "source": [
    "# 3. Set Operations\n",
    "\n",
    "$\\textbf{U} = \\{1,2,3,4,5\\}$<br>\n",
    "$\\textbf{A} = \\{1,2,3,4,5\\}$<br>\n",
    "$\\textbf{B} = \\{4,5,6,7\\}$<br>\n",
    "$\\textbf{C} = \\{5,6,7,8,9\\}$<br>\n",
    "$\\textbf{D} = \\{1,3,5,7,9\\}$<br>\n",
    "$\\textbf{E} = \\{2,4,6,8\\}$<br>\n",
    "$\\textbf{F} = \\{1,5,9\\}$<br>\n",
    "\n",
    "- $\\textbf{C} \\oplus \\textbf{D}$\r\n",
    "- $\\textbf{A} \\backslash \\textbf{B}$\r\n",
    "- $\\textbf{B} \\backslash \\textbf{A}$\r\n",
    "- $\\textbf{E} \\oplus \\textbf{F}$\n",
    "\n",
    "A $\\oplus$ B = (A $\\cup$ B) \\ (A $\\cap$ B) = (A\\B) $\\cup$ (B\\A)\n",
    "\n"
   ]
  },
  {
   "cell_type": "markdown",
   "id": "7c6dee6b-97a9-4464-91cf-acbdfb5cddcd",
   "metadata": {},
   "source": [
    "- $\\textbf{C} \\{5,6,7,8,9\\} \\oplus \\textbf{D} \\{1,3,5,7,9\\} \\downarrow $<br> \n",
    "$(C - D) \\cup (D - C) = \\{6, 8\\} \\cup \\{1, 3\\} = \\{1, 3, 6, 8\\} $\n",
    "\n",
    "- $\\textbf{A}\\{1,2,3,4,5\\}\\backslash\\textbf{B}\\{4,5,6,7\\} \\downarrow $ <br>\n",
    "$\\textbf{A}\\{1,2,3,4,5\\} - \\textbf{B}\\{4,5,6,7\\} = \\{1, 2, 3\\}$\n",
    "\n",
    "- $\\textbf{B}\\{4,5,6,7\\}\\backslash\\textbf{A}\\{1,2,3,4,5\\} \\downarrow$ <br>\n",
    "$\\textbf{B}\\{4,5,6,7\\} - \\textbf{A}\\{1,2,3,4,5\\} = \\{6,7\\} $\n",
    "\n",
    "- $\\textbf{E}\\{2,4,6,8\\} \\oplus \\textbf{F}\\{1,5,9\\} \\downarrow$ <br>\n",
    "$(E - F) \\cup (F - E) = \\{2, 4, 6, 8\\} \\cup \\{1, 5, 9\\} = \\{1, 2, 4, 5, 6, 8, 9\\}$\n",
    "\n"
   ]
  },
  {
   "cell_type": "code",
   "execution_count": 8,
   "id": "b8272e60-2095-4c11-8b7b-68635f261035",
   "metadata": {
    "scrolled": true
   },
   "outputs": [
    {
     "name": "stdout",
     "output_type": "stream",
     "text": [
      "{1, 3, 6, 8}\n",
      "{1, 2, 3}\n",
      "{6, 7}\n",
      "{1, 2, 4, 5, 6, 8, 9}\n"
     ]
    }
   ],
   "source": [
    "#Solutions in python\n",
    "\n",
    "U = {1,2,3,4,5}\n",
    "A = {1,2,3,4,5}\n",
    "B = {4,5,6,7}\n",
    "C = {5,6,7,8,9}\n",
    "D = {1,3,5,7,9}\n",
    "E = {2,4,6,8}\n",
    "F = {1,5,9}\n",
    "\n",
    "print(C ^ D)\n",
    "print(A - B)\n",
    "print(B - A)\n",
    "print(E ^ F)"
   ]
  },
  {
   "cell_type": "markdown",
   "id": "e810d67f-5baa-4497-91fb-63346a8e603b",
   "metadata": {},
   "source": [
    "# 4. Finite Sets and The Counting Principles"
   ]
  },
  {
   "cell_type": "markdown",
   "id": "f97f904c-f4f4-417f-968f-645233ee53a3",
   "metadata": {},
   "source": [
    "# The Venn Diagram"
   ]
  },
  {
   "cell_type": "code",
   "execution_count": 8,
   "id": "1c638be4-eef2-4d00-ab33-13b58e8b4e9a",
   "metadata": {},
   "outputs": [
    {
     "data": {
      "text/plain": [
       "<matplotlib_venn._common.VennDiagram at 0x1c3fd33c690>"
      ]
     },
     "execution_count": 8,
     "metadata": {},
     "output_type": "execute_result"
    },
    {
     "data": {
      "image/png": "[encoded data removed]",
      "text/plain": [
       "<Figure size 640x480 with 1 Axes>"
      ]
     },
     "metadata": {},
     "output_type": "display_data"
    }
   ],
   "source": [
    "from matplotlib_venn import venn3, venn3_circles\n",
    "import matplotlib.pyplot as plt\n",
    "venn3(subsets = (28, 18, 12, 10, 17, 7, 8), set_labels = (\"Newsweek Magazine\", \"Times Magazine \", \"Fortune Magazine\"))\n"
   ]
  },
  {
   "cell_type": "markdown",
   "id": "495f51c4-e713-4456-ba0c-eda88b3ba69a",
   "metadata": {},
   "source": [
    "# Number of people who read atleast one of the three magazines"
   ]
  },
  {
   "cell_type": "markdown",
   "id": "bc2b55a6-899c-435e-a39b-8f79a9a8f3df",
   "metadata": {},
   "source": [
    " $|N \\cup T \\cup F| = |N| + |T| + |F| − (N\\cap T + N\\cap F + T\\cap F) + |N\\cap F\\cap T| $\n",
    "\n",
    " $ \\therefore 65 + 42 + 20 - (20 + 35 + 15) + 8 = {100}$"
   ]
  },
  {
   "cell_type": "markdown",
   "id": "7138492c-ef1f-4842-974c-816bb454f6eb",
   "metadata": {},
   "source": [
    "# Number of people who read exactly one magazine"
   ]
  },
  {
   "cell_type": "markdown",
   "id": "fb6847cf-1ed6-4fce-a014-3579213e51bd",
   "metadata": {},
   "source": [
    " $|N| = |N| − (N\\cap T) - |N\\cap F| + |N\\cap F\\cap T| $ \n",
    " \n",
    " $ \\therefore 65 - 20 - 25 + 8 = {28}$\n",
    "\n",
    " $|T| = |T| − (N\\cap T) - |T\\cap F| + |N\\cap F\\cap T| $\n",
    "\n",
    "$ \\therefore 45 - 20 - 15 + 8 = {18}$\n",
    "\n",
    "$|F| = |F| − (N\\cap F) - |T\\cap F| + |N\\cap F\\cap T| $ \n",
    "\n",
    "$\\therefore 42 - 25 - 15 + 8 = {10}$\n",
    "\n",
    "${ \\textbf{Exactly One} }$ = $|N| + |T| + |F| = 28 + 18 + 10 = {56}$"
   ]
  },
  {
   "cell_type": "markdown",
   "id": "4927b0d6-620d-4dac-8e4f-08df4a0edac4",
   "metadata": {},
   "source": [
    "# 4.1"
   ]
  },
  {
   "cell_type": "code",
   "execution_count": 56,
   "id": "03eb2bfe-5114-43a9-a50b-90f08e4318a3",
   "metadata": {},
   "outputs": [
    {
     "data": {
      "text/plain": [
       "Text(-0.6, -0.4, 'None=2')"
      ]
     },
     "execution_count": 56,
     "metadata": {},
     "output_type": "execute_result"
    },
    {
     "data": {
      "image/png": "[encoded data removed]",
      "text/plain": [
       "<Figure size 640x480 with 1 Axes>"
      ]
     },
     "metadata": {},
     "output_type": "display_data"
    }
   ],
   "source": [
    "venn3(subsets = (4, 2, 6, 5, 2, 1, 3), set_labels = ('Air-Conditioning (A)', 'Radio (R)', 'Power Windows (W)'))\n",
    "plt.annotate(\"None=2\", xy=(-0.6, -0.4), fontsize=13, ha='center', va='center', color='black', weight='1')"
   ]
  },
  {
   "cell_type": "markdown",
   "id": "99301ada-c7b6-4201-921e-488f5b8339e2",
   "metadata": {},
   "source": [
    "# Find:\n",
    "2. Find the number of cars with W only.\n",
    "3. Find the number of cars with A only.\n",
    "4. Find the number of cars with R only.\n",
    "5. Find the number of cars with both R and W but not A.\n",
    "6. Find the number of cars with both A and R but not W.\n",
    "7. Find the number of cars with only one of the options.\n",
    "8. Find the number of cars with at least one option\n",
    "9. Find the number of cars with none of the options\n"
   ]
  },
  {
   "cell_type": "markdown",
   "id": "00e15dc4-e607-434d-b2df-40bd760982e3",
   "metadata": {},
   "source": [
    "2. $|W| - |A \\cap W| - |R \\cap W| + |A\\cap R \\cap W| = 11 - 5 - 4 + 3 = \\underline{5}$\n",
    "3. $|A| - |A \\cap W| - |A \\cap R| + |A\\cap R \\cap W| = 15 - 5 - 9 + 3 = \\underline{4}$\n",
    "4. $|R| - |A \\cap R| - |R \\cap W| + |A\\cap R \\cap W| = 12 - 9 - 4 + 3 = \\underline{2}$\n",
    "5. $|R \\cap W| = |R \\cap W| - |A\\cap R \\cap W| = 4 - 3 = \\underline{1}$\n",
    "6. $|A \\cap R| = |A \\cap R| - |A\\cap R \\cap W| = 9 - 3 = \\underline{6}$\n",
    "7. $|A \\text{ only }| + |W \\text{ only }| + |R \\text{ only }| = 5 + 4 + 2 = \\underline{11}$\n",
    "8. $|A| + |R| + |W| - |A \\cap R| - |A \\cap W| - |R \\cap W| + |A\\cap R \\cap W| = 15 + 12 + 11 - 9 - 5 - 4 + 3 = \\underline{23}$\n",
    "9. $|\\mathcal{U} - |A \\cup R \\cup W| = 25 - 23 = \\underline{2}$"
   ]
  }
 ],
 "metadata": {
  "kernelspec": {
   "display_name": "Python 3 (ipykernel)",
   "language": "python",
   "name": "python3"
  },
  "language_info": {
   "codemirror_mode": {
    "name": "ipython",
    "version": 3
   },
   "file_extension": ".py",
   "mimetype": "text/x-python",
   "name": "python",
   "nbconvert_exporter": "python",
   "pygments_lexer": "ipython3",
   "version": "3.11.4"
  }
 },
 "nbformat": 4,
 "nbformat_minor": 5
}
